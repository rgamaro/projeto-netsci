{
  "nbformat": 4,
  "nbformat_minor": 0,
  "metadata": {
    "colab": {
      "name": "Estudo_plot_igraph.ipynb",
      "provenance": [],
      "authorship_tag": "ABX9TyNE9cAtolxu1GEc4BrknUJV"
    },
    "kernelspec": {
      "name": "python3",
      "display_name": "Python 3"
    }
  },
  "cells": [
    {
      "cell_type": "markdown",
      "metadata": {
        "id": "LWe5BmyfTUJY"
      },
      "source": [
        "Estudo do Igraph com base no tutorial https://igraph.org/python/doc/tutorial/tutorial.html#"
      ]
    },
    {
      "cell_type": "markdown",
      "metadata": {
        "id": "RGo_uS_aOMau"
      },
      "source": [
        "#Imports\n"
      ]
    },
    {
      "cell_type": "code",
      "metadata": {
        "id": "B-C-6ITcNY7H"
      },
      "source": [
        "pip install pycairo"
      ],
      "execution_count": null,
      "outputs": []
    },
    {
      "cell_type": "code",
      "metadata": {
        "id": "tW79HTqNOBZv"
      },
      "source": [
        "pip install cairocffi"
      ],
      "execution_count": null,
      "outputs": []
    },
    {
      "cell_type": "code",
      "metadata": {
        "id": "6jQvbt-4OG-S"
      },
      "source": [
        "!pip download python-igraph\n",
        "!pip install --no-index --find-links=\".\" python-igraph"
      ],
      "execution_count": null,
      "outputs": []
    },
    {
      "cell_type": "code",
      "metadata": {
        "id": "8LcrkPW4SNBu"
      },
      "source": [
        "from igraph import *"
      ],
      "execution_count": null,
      "outputs": []
    },
    {
      "cell_type": "markdown",
      "metadata": {
        "id": "H6BqrwL4RI8e"
      },
      "source": [
        "#Gerando a rede"
      ]
    },
    {
      "cell_type": "code",
      "metadata": {
        "id": "N9SQPBbCRKk9"
      },
      "source": [
        "g = Graph([(0,1), (0,2), (2,3), (3,4), (4,2), (2,5), (5,0), (6,3), (5,6)])"
      ],
      "execution_count": null,
      "outputs": []
    },
    {
      "cell_type": "code",
      "metadata": {
        "id": "DEam_Hr-SA_U"
      },
      "source": [
        "g.vs[\"name\"] = [\"Alice\", \"Bob\", \"Claire\", \"Dennis\", \"Esther\", \"Frank\", \"George\"]"
      ],
      "execution_count": null,
      "outputs": []
    },
    {
      "cell_type": "code",
      "metadata": {
        "id": "GmvodkMzSaEc"
      },
      "source": [
        "g.vs[\"age\"] = [25, 31, 18, 47, 22, 23, 50]"
      ],
      "execution_count": null,
      "outputs": []
    },
    {
      "cell_type": "code",
      "metadata": {
        "id": "oM1WRSPfSbwi"
      },
      "source": [
        "g.vs[\"gender\"] = [\"f\", \"m\", \"f\", \"m\", \"f\", \"m\", \"m\"]"
      ],
      "execution_count": null,
      "outputs": []
    },
    {
      "cell_type": "code",
      "metadata": {
        "id": "ctReARAgSdL-"
      },
      "source": [
        "g.es[\"is_formal\"] = [False, False, True, True, True, False, True, False, False]"
      ],
      "execution_count": null,
      "outputs": []
    },
    {
      "cell_type": "code",
      "metadata": {
        "id": "rfZzofF2Setp"
      },
      "source": [
        "g.es[0][\"is_formal\"] = True"
      ],
      "execution_count": null,
      "outputs": []
    },
    {
      "cell_type": "code",
      "metadata": {
        "id": "TSMZgxqsSprb",
        "outputId": "a4e4926c-038a-48ec-d3bc-93f1a90feb53",
        "colab": {
          "base_uri": "https://localhost:8080/",
          "height": 34
        }
      },
      "source": [
        "ebs = g.edge_betweenness()\n",
        "max_eb = max(ebs)\n",
        "[g.es[idx].tuple for idx, eb in enumerate(ebs) if eb == max_eb]"
      ],
      "execution_count": null,
      "outputs": [
        {
          "output_type": "execute_result",
          "data": {
            "text/plain": [
              "[(0, 1), (0, 2)]"
            ]
          },
          "metadata": {
            "tags": []
          },
          "execution_count": 19
        }
      ]
    },
    {
      "cell_type": "markdown",
      "metadata": {
        "id": "OoUwcVQ5S_oz"
      },
      "source": [
        "#Layout (Plot)"
      ]
    },
    {
      "cell_type": "code",
      "metadata": {
        "id": "57HH4lAyS_Ca"
      },
      "source": [
        "layout = g.layout_kamada_kawai()"
      ],
      "execution_count": null,
      "outputs": []
    },
    {
      "cell_type": "code",
      "metadata": {
        "id": "dvs_OTLrTHTi"
      },
      "source": [
        "layout = g.layout(\"kamada_kawai\")"
      ],
      "execution_count": null,
      "outputs": []
    },
    {
      "cell_type": "code",
      "metadata": {
        "id": "oaVVq6uTTKsT"
      },
      "source": [
        "layout = g.layout_reingold_tilford(root=[2])"
      ],
      "execution_count": null,
      "outputs": []
    },
    {
      "cell_type": "code",
      "metadata": {
        "id": "0L9w19BBTLQo"
      },
      "source": [
        "layout = g.layout(\"kk\")"
      ],
      "execution_count": null,
      "outputs": []
    },
    {
      "cell_type": "code",
      "metadata": {
        "id": "e5y2SmNCTOWb"
      },
      "source": [
        "plot(g, layout = layout)"
      ],
      "execution_count": null,
      "outputs": []
    },
    {
      "cell_type": "code",
      "metadata": {
        "id": "JcTKl0vBTP4w"
      },
      "source": [
        "g.vs[\"label\"] = g.vs[\"name\"]\n",
        "color_dict = {\"m\": \"blue\", \"f\": \"pink\"}\n",
        "g.vs[\"color\"] = [color_dict[gender] for gender in g.vs[\"gender\"]]\n",
        "plot(g, layout = layout, bbox = (600, 300), margin = 20)"
      ],
      "execution_count": null,
      "outputs": []
    },
    {
      "cell_type": "code",
      "metadata": {
        "id": "iyCRdv-_Udc0"
      },
      "source": [
        "visual_style = {}\n",
        "visual_style[\"vertex_size\"] = 15\n",
        "visual_style[\"vertex_color\"] = [color_dict[gender] for gender in g.vs[\"gender\"]]\n",
        "visual_style[\"vertex_label\"] = g.vs[\"name\"]\n",
        "visual_style[\"vertex_shape\"] = \"rectangle\"\n",
        "visual_style[\"edge_label\"] = g.es[\"is_formal\"]\n",
        "visual_style[\"edge_width\"] = [1 + 2 * int(is_formal) for is_formal in g.es[\"is_formal\"]]\n",
        "visual_style[\"layout\"] = layout\n",
        "visual_style[\"bbox\"] = (600, 300)\n",
        "visual_style[\"margin\"] = 40\n",
        "plot(g, **visual_style)"
      ],
      "execution_count": null,
      "outputs": []
    },
    {
      "cell_type": "code",
      "metadata": {
        "id": "x567uZ4HVuOf"
      },
      "source": [
        "plot(g, \"social_network.pdf\", **visual_style)"
      ],
      "execution_count": null,
      "outputs": []
    }
  ]
}